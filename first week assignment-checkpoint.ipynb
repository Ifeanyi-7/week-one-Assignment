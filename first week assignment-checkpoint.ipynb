{
 "cells": [
  {
   "cell_type": "markdown",
   "id": "8a25432f",
   "metadata": {},
   "source": [
    "## Grades for the shool Grade 1-3"
   ]
  },
  {
   "cell_type": "code",
   "execution_count": 1,
   "id": "0ad9ad8e",
   "metadata": {},
   "outputs": [],
   "source": [
    "grade = 25, 30, 28"
   ]
  },
  {
   "cell_type": "code",
   "execution_count": 3,
   "id": "a2c3fed9",
   "metadata": {},
   "outputs": [
    {
     "data": {
      "text/plain": [
       "(25, 30, 28)"
      ]
     },
     "execution_count": 3,
     "metadata": {},
     "output_type": "execute_result"
    }
   ],
   "source": [
    "grade"
   ]
  },
  {
   "cell_type": "markdown",
   "id": "80b95cfc",
   "metadata": {},
   "source": [
    "## The Sum of the grades or total of the element"
   ]
  },
  {
   "cell_type": "code",
   "execution_count": 4,
   "id": "272de3b4",
   "metadata": {},
   "outputs": [
    {
     "data": {
      "text/plain": [
       "83"
      ]
     },
     "execution_count": 4,
     "metadata": {},
     "output_type": "execute_result"
    }
   ],
   "source": [
    "# sum()\n",
    "sum_of_grade = sum(grade)\n",
    "sum_of_grade"
   ]
  },
  {
   "cell_type": "markdown",
   "id": "ae4ff10f",
   "metadata": {},
   "source": [
    "## knowing the len which is mostly used for Average"
   ]
  },
  {
   "cell_type": "code",
   "execution_count": 5,
   "id": "afc8906e",
   "metadata": {},
   "outputs": [
    {
     "data": {
      "text/plain": [
       "3"
      ]
     },
     "execution_count": 5,
     "metadata": {},
     "output_type": "execute_result"
    }
   ],
   "source": [
    "# len()\n",
    "no_of_elements = len (grade)\n",
    "no_of_elements\n"
   ]
  },
  {
   "cell_type": "markdown",
   "id": "6c7f6ef9",
   "metadata": {},
   "source": [
    "## Displaying the average number of the element for each grades"
   ]
  },
  {
   "cell_type": "code",
   "execution_count": 6,
   "id": "64265a7b",
   "metadata": {},
   "outputs": [
    {
     "data": {
      "text/plain": [
       "27.666666666666668"
      ]
     },
     "execution_count": 6,
     "metadata": {},
     "output_type": "execute_result"
    }
   ],
   "source": [
    "83/3"
   ]
  },
  {
   "cell_type": "markdown",
   "id": "08fdb3c8",
   "metadata": {},
   "source": [
    "## prepared warm messages for eah Grades"
   ]
  },
  {
   "cell_type": "code",
   "execution_count": 7,
   "id": "735a1c58",
   "metadata": {},
   "outputs": [],
   "source": [
    "Grade1 =\" welcome to Grade 1! we are excited to have you\""
   ]
  },
  {
   "cell_type": "code",
   "execution_count": 9,
   "id": "330b2948",
   "metadata": {},
   "outputs": [
    {
     "name": "stdout",
     "output_type": "stream",
     "text": [
      " welcome to Grade 1! we are excited to have you\n"
     ]
    }
   ],
   "source": [
    "print(Grade1)"
   ]
  },
  {
   "cell_type": "code",
   "execution_count": 10,
   "id": "1b4ea6ab",
   "metadata": {},
   "outputs": [],
   "source": [
    "Grade2 ='Hello Grade2 student! Get ready to learn and have fun' "
   ]
  },
  {
   "cell_type": "code",
   "execution_count": 11,
   "id": "b3bb6be3",
   "metadata": {},
   "outputs": [],
   "source": [
    "Grade3 = ' welcome Grade3 students. let us make this a great year of learning'"
   ]
  },
  {
   "cell_type": "code",
   "execution_count": 13,
   "id": "60b7f864",
   "metadata": {},
   "outputs": [
    {
     "data": {
      "text/plain": [
       "'Hello Grade2 student! Get ready to learn and have fun'"
      ]
     },
     "execution_count": 13,
     "metadata": {},
     "output_type": "execute_result"
    }
   ],
   "source": [
    "Grade2"
   ]
  },
  {
   "cell_type": "code",
   "execution_count": 15,
   "id": "150b558c",
   "metadata": {},
   "outputs": [
    {
     "data": {
      "text/plain": [
       "' welcome Grade3 students. let us make this a great year of learning'"
      ]
     },
     "execution_count": 15,
     "metadata": {},
     "output_type": "execute_result"
    }
   ],
   "source": [
    "Grade3"
   ]
  },
  {
   "cell_type": "markdown",
   "id": "a7e0b164",
   "metadata": {},
   "source": [
    "# Creating lists of the three grades"
   ]
  },
  {
   "cell_type": "code",
   "execution_count": 17,
   "id": "404f9749",
   "metadata": {},
   "outputs": [
    {
     "data": {
      "text/plain": [
       "['grade1', 'grade2', 'grade3']"
      ]
     },
     "execution_count": 17,
     "metadata": {},
     "output_type": "execute_result"
    }
   ],
   "source": [
    "['grade1', 'grade2', 'grade3']"
   ]
  },
  {
   "cell_type": "markdown",
   "id": "4f4149c8",
   "metadata": {},
   "source": [
    "## subjects for each Grades"
   ]
  },
  {
   "cell_type": "code",
   "execution_count": 20,
   "id": "724e5d52",
   "metadata": {},
   "outputs": [],
   "source": [
    "grade1='Maths', 'English', 'Scicence'"
   ]
  },
  {
   "cell_type": "code",
   "execution_count": 22,
   "id": "d0dc3a72",
   "metadata": {},
   "outputs": [
    {
     "data": {
      "text/plain": [
       "('Maths', 'English', 'Scicence')"
      ]
     },
     "execution_count": 22,
     "metadata": {},
     "output_type": "execute_result"
    }
   ],
   "source": [
    "grade1"
   ]
  },
  {
   "cell_type": "code",
   "execution_count": 23,
   "id": "3939e68b",
   "metadata": {},
   "outputs": [],
   "source": [
    "grade2 = 'English', 'Science', 'History'"
   ]
  },
  {
   "cell_type": "code",
   "execution_count": 26,
   "id": "bce5c276",
   "metadata": {},
   "outputs": [
    {
     "data": {
      "text/plain": [
       "('English', 'Science', 'History')"
      ]
     },
     "execution_count": 26,
     "metadata": {},
     "output_type": "execute_result"
    }
   ],
   "source": [
    "grade2"
   ]
  },
  {
   "cell_type": "code",
   "execution_count": 27,
   "id": "c1f00c40",
   "metadata": {},
   "outputs": [],
   "source": [
    "grade3 ='Science', 'History', 'Maths'"
   ]
  },
  {
   "cell_type": "code",
   "execution_count": 29,
   "id": "0c43a049",
   "metadata": {},
   "outputs": [
    {
     "data": {
      "text/plain": [
       "('Science', 'History', 'Maths')"
      ]
     },
     "execution_count": 29,
     "metadata": {},
     "output_type": "execute_result"
    }
   ],
   "source": [
    "grade3"
   ]
  },
  {
   "cell_type": "markdown",
   "id": "a09308b2",
   "metadata": {},
   "source": [
    "## Dictionary; where keys are for grade and values are for list of Techers"
   ]
  },
  {
   "cell_type": "code",
   "execution_count": null,
   "id": "87dcfa51",
   "metadata": {},
   "outputs": [],
   "source": []
  }
 ],
 "metadata": {
  "kernelspec": {
   "display_name": "Python 3 (ipykernel)",
   "language": "python",
   "name": "python3"
  },
  "language_info": {
   "codemirror_mode": {
    "name": "ipython",
    "version": 3
   },
   "file_extension": ".py",
   "mimetype": "text/x-python",
   "name": "python",
   "nbconvert_exporter": "python",
   "pygments_lexer": "ipython3",
   "version": "3.11.4"
  }
 },
 "nbformat": 4,
 "nbformat_minor": 5
}
